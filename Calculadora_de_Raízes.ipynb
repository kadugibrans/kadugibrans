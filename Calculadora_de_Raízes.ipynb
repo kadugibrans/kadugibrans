{
  "nbformat": 4,
  "nbformat_minor": 0,
  "metadata": {
    "colab": {
      "provenance": []
    },
    "kernelspec": {
      "name": "python3",
      "display_name": "Python 3"
    },
    "language_info": {
      "name": "python"
    }
  },
  "cells": [
    {
      "cell_type": "code",
      "execution_count": 72,
      "metadata": {
        "colab": {
          "base_uri": "https://localhost:8080/"
        },
        "id": "D9XLz6X478N8",
        "outputId": "01904405-c447-429e-ac01-f9aa688ab48c"
      },
      "outputs": [
        {
          "name": "stdout",
          "output_type": "stream",
          "text": [
            "Seguindo o formato ax²+bx+c=0, insira os valores das constantes a, b, c da sua equação de segundo grau\n",
            "Valor de a: 4\n",
            "Valor de b: 4\n",
            "Valor de c: 1\n",
            "A solução é única e o valor é -0.5\n",
            "Deseja solucionar outra equação? Digite Sim ou Não: Sim\n",
            "Seguindo o formato ax²+bx+c=0, insira os valores das constantes a, b, c da sua equação de segundo grau\n",
            "Valor de a: 4\n",
            "Valor de b: 4\n",
            "Valor de c: 4\n",
            "A primeira solução é  -0.5 + 0.87 i\n",
            "A segunda solução é  -0.5 - 0.87 i\n",
            "Deseja solucionar outra equação? Digite Sim ou Não: Não\n"
          ]
        }
      ],
      "source": [
        "import math\n",
        "\n",
        "resposta = \"Sim\"\n",
        "\n",
        "while resposta == \"Sim\":\n",
        "  print(\"Seguindo o formato ax²+bx+c=0, insira os valores das constantes a, b, c da sua equação de segundo grau\")\n",
        "  a = input(\"Valor de a: \")\n",
        "  b = input(\"Valor de b: \")\n",
        "  c = input(\"Valor de c: \")\n",
        "\n",
        "  a=float(a)\n",
        "  b=float(b)\n",
        "  c=float(c)\n",
        "\n",
        "  delta = (b**2)-(4*a*c)\n",
        "\n",
        "  if delta < 0:\n",
        "    real = -b/(2*a)\n",
        "    imag = math.sqrt(abs(delta))/(2*a)\n",
        "    print(\"A primeira solução é \",real,\"+\",round(imag,2),\"i\")\n",
        "    print(\"A segunda solução é \",real,\"-\",round(imag,2),\"i\")\n",
        "\n",
        "  elif delta == 0:\n",
        "    real = -b/(2*a)\n",
        "    print(\"A solução é única e o valor é\",real)\n",
        "\n",
        "  else:\n",
        "    real = -b/(2*a)\n",
        "    imag = math.sqrt(delta)/(2*a)\n",
        "    x1 = real + imag\n",
        "    x2 = real - imag\n",
        "    print(\"As soluções são \", x1,\" e \", x2)\n",
        "\n",
        "\n",
        "  resposta=input(\"Deseja solucionar outra equação? Digite Sim ou Não: \")\n",
        "  if resposta == \"Não\":\n",
        "    break\n",
        "  while resposta != \"Sim\" and \"Não\":\n",
        "      resposta=input(\"Digite corretamente sua resposta, Sim ou Não: \")\n",
        "      if resposta == \"Não\":\n",
        "        break\n",
        "\n"
      ]
    }
  ]
}